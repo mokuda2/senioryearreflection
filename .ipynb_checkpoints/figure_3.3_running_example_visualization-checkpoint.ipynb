{
 "cells": [
  {
   "cell_type": "code",
   "execution_count": 6,
   "id": "bd236fca",
   "metadata": {},
   "outputs": [
    {
     "ename": "SyntaxError",
     "evalue": "invalid syntax (1644067352.py, line 5)",
     "output_type": "error",
     "traceback": [
      "\u001b[1;36m  Cell \u001b[1;32mIn[6], line 5\u001b[1;36m\u001b[0m\n\u001b[1;33m    from \"family_model_intergenerational_marriage_Teayoun version\" import *\u001b[0m\n\u001b[1;37m         ^\u001b[0m\n\u001b[1;31mSyntaxError\u001b[0m\u001b[1;31m:\u001b[0m invalid syntax\n"
     ]
    }
   ],
   "source": [
    "\n",
    "from matplotlib import pyplot as plt \n",
    "import networkx as nx \n",
    "from networkx.drawing.nx_pydot import graphviz_layout \n",
    "# from networkx.nx_agraph import graphviz_layout\n",
    "from family_model_intergenerational_marriage import * \n",
    "from get_model_parameters import separate_parts"
   ]
  },
  {
   "cell_type": "code",
   "execution_count": 3,
   "id": "de59ac67",
   "metadata": {},
   "outputs": [],
   "source": [
    "def draw_paj_graph(graph_name, \n",
    "                   ax=None,\n",
    "                   out_directory='Kolton_distances_histograms', \n",
    "                   file_name='tikopia_1930', \n",
    "                   title=\"\", \n",
    "                   dpi=300, \n",
    "                   figsize=(12,9), \n",
    "                   layout=nx.kamada_kawai_layout,\n",
    "                   layout_args=[],\n",
    "                   edge_width=1,\n",
    "                   node_size=1,\n",
    "                   alpha=1):\n",
    "    \"\"\"Takes in a PAJEK formatted graph file and draws the graph in an easy to interpret form.\n",
    "    Marriage edges are red. Parent child edges are blue. Males are triangles, Females are circles.\"\"\"\n",
    "    ax_was_None = False \n",
    "    if ax is None:\n",
    "        ax_was_None = True\n",
    "        fig, ax = plt.subplots(1,1, figsize=figsize, dpi=dpi)\n",
    "    # get graph data\n",
    "    nodes,marr_edges,pc_edges = separate_parts(graph_name,'A')\n",
    "    # create graph and add nodes\n",
    "    g = nx.Graph()\n",
    "    g.add_nodes_from(np.arange(1, nodes[0]+1))\n",
    "    g.add_edges_from(marr_edges)\n",
    "    g.add_edges_from(pc_edges)\n",
    "    # get genders\n",
    "    male = list(np.array(list(nodes[2].keys()))[np.array(list(nodes[2].values()))=='M'])\n",
    "    female = list(np.array(list(nodes[2].keys()))[np.array(list(nodes[2].values()))=='F'])\n",
    "    unknown = list(np.array(list(nodes[2].keys()))[np.array(list(nodes[2].values()))=='U'])\n",
    "    # get position of nodes and edges\n",
    "    pos = layout(g, *layout_args)\n",
    "    # draw graph\n",
    "    nx.draw_networkx_edges(g,pos,marr_edges,edge_color='r', label='union', width=edge_width, alpha=alpha/2, ax=ax)\n",
    "    nx.draw_networkx_edges(g,pos,pc_edges,edge_color='b', label='parent-child', width=edge_width, alpha=alpha/2, ax=ax)\n",
    "    nx.draw_networkx_nodes(g,pos,male,node_shape = 'v',node_color='k',node_size=node_size, label='male', alpha=alpha, ax=ax)\n",
    "    nx.draw_networkx_nodes(g,pos,female,node_shape='o',node_color='k',node_size=node_size, label='female', alpha=alpha, ax=ax)\n",
    "    nx.draw_networkx_nodes(g,pos,unknown,node_shape='x',node_color='g',node_size=node_size, alpha=alpha, ax=ax)\n",
    "    plt.title(title, fontsize=24)\n",
    "    plt.legend(fontsize=16)\n",
    "    if ax_was_None:\n",
    "        if not os.path.exists(out_directory):\n",
    "            os.makedirs(out_directory) \n",
    "        plt.savefig(os.path.join(out_directory, file_name + '_family_network.png'), format='png')\n",
    "        plt.show()\n",
    "        print('Saved to: {}'.format(os.path.join(out_directory, file_name + '_family_network.png')))\n",
    "    return ax"
   ]
  },
  {
   "cell_type": "code",
   "execution_count": 4,
   "id": "2dcb82fe",
   "metadata": {},
   "outputs": [
    {
     "ename": "NameError",
     "evalue": "name 'get_graph_stats' is not defined",
     "output_type": "error",
     "traceback": [
      "\u001b[1;31m---------------------------------------------------------------------------\u001b[0m",
      "\u001b[1;31mNameError\u001b[0m                                 Traceback (most recent call last)",
      "Cell \u001b[1;32mIn[4], line 3\u001b[0m\n\u001b[0;32m      1\u001b[0m name \u001b[38;5;241m=\u001b[39m \u001b[38;5;124m'\u001b[39m\u001b[38;5;124mkelkummer\u001b[39m\u001b[38;5;124m'\u001b[39m\n\u001b[0;32m      2\u001b[0m num_people \u001b[38;5;241m=\u001b[39m \u001b[38;5;241m417\u001b[39m\n\u001b[1;32m----> 3\u001b[0m target_marriage_dist, target_num_marriages, target_prob_inf_marriage, target_prob_finite_marriage, target_child_dist, target_size_goal \u001b[38;5;241m=\u001b[39m get_graph_stats(name)\n",
      "\u001b[1;31mNameError\u001b[0m: name 'get_graph_stats' is not defined"
     ]
    }
   ],
   "source": [
    "name = 'kelkummer'\n",
    "num_people = 417\n",
    "target_marriage_dist, target_num_marriages, target_prob_inf_marriage, target_prob_finite_marriage, target_child_dist, target_size_goal = get_graph_stats(name)\n"
   ]
  },
  {
   "cell_type": "code",
   "execution_count": null,
   "id": "c1ab6911",
   "metadata": {},
   "outputs": [],
   "source": []
  },
  {
   "cell_type": "code",
   "execution_count": null,
   "id": "a743c0a0",
   "metadata": {},
   "outputs": [],
   "source": [
    "graph_name = f'Original_Sources/kinsources-{name}-oregraph.paj'"
   ]
  },
  {
   "cell_type": "code",
   "execution_count": null,
   "id": "b3d925cd",
   "metadata": {},
   "outputs": [],
   "source": [
    "draw_paj_graph(graph_name,\n",
    "              title = 'Kel Kummer',\n",
    "               out_directory='target_network_visualizations',  \n",
    "               file_name = 'kelkummer_actual',\n",
    "               node_size=40,\n",
    "               layout=graphviz_layout,\n",
    "               layout_args=['dot'],\n",
    "               edge_width = .4,\n",
    "               alpha=0.6\n",
    "               \n",
    ")"
   ]
  },
  {
   "cell_type": "code",
   "execution_count": null,
   "id": "375ab482",
   "metadata": {},
   "outputs": [],
   "source": [
    "draw_paj_graph(graph_name,\n",
    "              title = 'Kel Kummer',\n",
    "               out_directory='target_network_visualizations',  \n",
    "               file_name = 'kelkummer_actual',\n",
    "               node_size=40,\n",
    "               layout=graphviz_layout,\n",
    "               layout_args=['twopi'],\n",
    "               edge_width = .25,\n",
    "               alpha=0.6\n",
    "               \n",
    ")"
   ]
  },
  {
   "cell_type": "code",
   "execution_count": null,
   "id": "3247832c",
   "metadata": {},
   "outputs": [],
   "source": [
    "draw_paj_graph(graph_name,\n",
    "              title = 'Kel Kummer',\n",
    "               out_directory='target_network_visualizations',  \n",
    "               file_name = 'kelkummer_actual',\n",
    "               node_size=40,\n",
    "               layout=graphviz_layout,\n",
    "               layout_args=['osage'],\n",
    "               edge_width = .75\n",
    "               \n",
    ")"
   ]
  },
  {
   "cell_type": "code",
   "execution_count": null,
   "id": "acee2fcf",
   "metadata": {},
   "outputs": [],
   "source": [
    "draw_paj_graph(graph_name,\n",
    "              title = 'Kel Kummer',\n",
    "               out_directory='target_network_visualizations',  \n",
    "               file_name = 'kelkummer_actual',\n",
    "               node_size=40,\n",
    "               layout=graphviz_layout,\n",
    "               layout_args=['circo'],\n",
    "               edge_width = .75\n",
    "               \n",
    ")"
   ]
  },
  {
   "cell_type": "code",
   "execution_count": null,
   "id": "7f094e09",
   "metadata": {},
   "outputs": [],
   "source": [
    "draw_paj_graph(graph_name,\n",
    "              title = 'Kel Kummer',\n",
    "               out_directory='target_network_visualizations',  \n",
    "               file_name = 'kelkummer_actual',\n",
    "               node_size=40,\n",
    "               layout=graphviz_layout,\n",
    "               layout_args=['fdp'],\n",
    "               edge_width = .75\n",
    "               \n",
    ")"
   ]
  },
  {
   "cell_type": "code",
   "execution_count": null,
   "id": "d3fd9aa6",
   "metadata": {},
   "outputs": [],
   "source": [
    "draw_paj_graph(graph_name,\n",
    "              title = 'Kel Kummer',\n",
    "               out_directory='target_network_visualizations',  \n",
    "               file_name = 'kelkummer_actual',\n",
    "               node_size=40,\n",
    "               layout=nx.kamada_kawai_layout,\n",
    "               layout_args=[],\n",
    "               edge_width = .6,\n",
    "               alpha=.6\n",
    "               \n",
    ")"
   ]
  },
  {
   "cell_type": "code",
   "execution_count": null,
   "id": "ab2fb582",
   "metadata": {},
   "outputs": [],
   "source": [
    "# histogram of target child distribution \n",
    "fig, ax = plt.subplots(1,1, figsize=(12, 9), dpi=300)\n",
    "plt.hist(target_child_dist, bins=[k for k in range(0, max(target_child_dist)+2)], color='blue', density=True)\n",
    "plt.suptitle(r'$P_C(x)$', fontsize=16)\n",
    "plt.title('Children per Household')\n",
    "plt.xlabel('children', fontsize=14)\n",
    "plt.ylabel('probability', fontsize=14)\n",
    "plt.xticks(fontsize=16)\n",
    "plt.yticks(fontsize=16)\n",
    "plt.tight_layout()\n",
    "plt.savefig(os.path.join('thesis_figures', 'child_distribution.png'), type='png')"
   ]
  },
  {
   "cell_type": "code",
   "execution_count": null,
   "id": "df0ee6ff",
   "metadata": {},
   "outputs": [],
   "source": [
    "target_prob_inf_marriage"
   ]
  },
  {
   "cell_type": "code",
   "execution_count": null,
   "id": "b7ab5798",
   "metadata": {},
   "outputs": [],
   "source": [
    "target_prob_finite_marriage"
   ]
  },
  {
   "cell_type": "code",
   "execution_count": null,
   "id": "73f0a827",
   "metadata": {},
   "outputs": [],
   "source": [
    "(1-target_prob_inf_marriage - target_prob_finite_marriage) * len(target_marriage_dist)"
   ]
  },
  {
   "cell_type": "code",
   "execution_count": null,
   "id": "0e76db37",
   "metadata": {},
   "outputs": [],
   "source": [
    "set(target_marriage_dist)"
   ]
  },
  {
   "cell_type": "code",
   "execution_count": null,
   "id": "00ccb08c",
   "metadata": {},
   "outputs": [],
   "source": [
    "# histogram of target distance to marriage distribution \n",
    "fig, ax = plt.subplots(1,1, figsize=(12, 9), dpi=300)\n",
    "\n",
    "# plt.hist(target_marriage_dist, bins=[k for k in range(-1, max(target_marriage_dist)+2)], color='red', density=True, align='left')\n",
    "plt.bar([k for k in target_marriage_probs.keys()], \n",
    "        [target_marriage_probs[k] for k in target_marriage_probs.keys()], \n",
    "        label='target', \n",
    "        width=1, \n",
    "        align='center',\n",
    "        color='red')\n",
    "plt.title('Distance Prior to Union')\n",
    "plt.suptitle(r'$P_U(x)$', fontsize=16)\n",
    "\n",
    "plt.xlabel('combined distance to common ancestor',fontsize=14)\n",
    "plt.ylabel('probability', fontsize=14)\n",
    "plt.xticks([k for k in range(-1, max(target_marriage_dist)+1)], labels=[r'$\\infty$', 0, '','',  3,'',  5,'',  7,'',  9,'',  11,''], fontsize=16)\n",
    "plt.yticks(fontsize=16)\n",
    "plt.tight_layout()\n",
    "plt.savefig(os.path.join('thesis_figures', 'union_distribution.png'), type='png')"
   ]
  },
  {
   "cell_type": "code",
   "execution_count": null,
   "id": "1ea84b59",
   "metadata": {},
   "outputs": [],
   "source": [
    "target_marriage_probs = get_marriage_probabilities(target_marriage_dist, target_size_goal, eps=0)"
   ]
  },
  {
   "cell_type": "code",
   "execution_count": null,
   "id": "ea69e4dc",
   "metadata": {},
   "outputs": [],
   "source": [
    "target_marriage_probs"
   ]
  },
  {
   "cell_type": "code",
   "execution_count": null,
   "id": "fd7c2031",
   "metadata": {},
   "outputs": [],
   "source": [
    "plt.bar([k for k in target_marriage_probs.keys()], [target_marriage_probs[k] for k in target_marriage_probs.keys()], label='target', width=1, align='center')\n",
    "plt.title('Distance Prior to Union')\n",
    "plt.xlabel('Combined Distance to Common Ancestor')"
   ]
  },
  {
   "cell_type": "code",
   "execution_count": null,
   "id": "d378fb14",
   "metadata": {},
   "outputs": [],
   "source": []
  },
  {
   "cell_type": "code",
   "execution_count": null,
   "id": "06397375",
   "metadata": {},
   "outputs": [],
   "source": [
    "[k for k in range(-1, max(target_marriage_dist)+2)][::2]"
   ]
  },
  {
   "cell_type": "code",
   "execution_count": null,
   "id": "37d06a7b",
   "metadata": {},
   "outputs": [],
   "source": [
    "[-1, '', 1,'',  3,'',  5,'',  7,'',  9,'',  11,'',  13]"
   ]
  },
  {
   "cell_type": "code",
   "execution_count": null,
   "id": "e68d4f56",
   "metadata": {},
   "outputs": [],
   "source": [
    "fig = plt.figure(figsize=(6,8), dpi=300, )\n",
    "ax1 = plt.subplot2grid((2,2), (0,0), colspan=2)\n",
    "ax2 = plt.subplot2grid((2,2), (1,0), colspan=1)\n",
    "ax3 = plt.subplot2grid((2,2), (1,1), colspan=1, sharey=ax2)\n",
    "\n",
    "ax1 = draw_paj_graph(graph_name,\n",
    "                    ax=ax1,\n",
    "              title = 'Kel Kummer',\n",
    "               out_directory='target_network_visualizations',  \n",
    "               file_name = 'kelkummer_actual',\n",
    "               node_size=3,\n",
    "               layout=graphviz_layout,\n",
    "               layout_args=['dot'],\n",
    "               edge_width = .4,\n",
    "               alpha=0.6\n",
    "               \n",
    ")\n",
    "ax1.legend()\n",
    "ax1.set_title(\"Kel Kummer (Mali)\")\n",
    "\n",
    "ax2.hist(target_child_dist, bins=[k for k in range(0, max(target_child_dist)+2)], color='blue', density=True, align='left')\n",
    "ax2.set_title(r'$P_C(x)$ — Children per Household')\n",
    "ax2.set_xlabel('Children')\n",
    "ax2.set_xticks([k for k in range(0, max(target_child_dist)+2)])\n",
    "ax2.set_xticklabels([0, '', 2, '',4, '',6, '',8, '',10, '',12])\n",
    "\n",
    "# histogram of target distance to marriage distribution \n",
    "ax3.bar([k for k in target_marriage_probs.keys()], \n",
    "        [target_marriage_probs[k] for k in target_marriage_probs.keys()], \n",
    "        label='target', \n",
    "        width=1, \n",
    "        align='center',\n",
    "        color='red')\n",
    "# ax3.hist(target_marriage_dist, bins=[k for k in range(-1, max(target_marriage_dist)+2)], color='red', density=True, align='left')\n",
    "ax3.set_title(r'$P_U(x)$ — Distance Prior to Union')\n",
    "ax3.set_xlabel('Combined Distance to \\n Common Ancestor')\n",
    "ax3.set_xticks([k for k in range(-1, max(target_marriage_dist)+1)])\n",
    "ax3.set_xticklabels([r'$\\infty$', 0, '','',  3,'',  5,'',  7,'',  9,'',  11,''])\n",
    "ax3.get_legend().remove()\n",
    "\n",
    "\n",
    "\n",
    "# fig.suptitle(\"Kel Kummer (Mali)\")\n",
    "plt.tight_layout()\n",
    "plt.savefig('thesis_figures/introduce_example_kelkummer.png', format='png')"
   ]
  },
  {
   "cell_type": "code",
   "execution_count": null,
   "id": "fa2b4b98",
   "metadata": {},
   "outputs": [],
   "source": []
  }
 ],
 "metadata": {
  "kernelspec": {
   "display_name": "Python 3 (ipykernel)",
   "language": "python",
   "name": "python3"
  },
  "language_info": {
   "codemirror_mode": {
    "name": "ipython",
    "version": 3
   },
   "file_extension": ".py",
   "mimetype": "text/x-python",
   "name": "python",
   "nbconvert_exporter": "python",
   "pygments_lexer": "ipython3",
   "version": "3.11.5"
  }
 },
 "nbformat": 4,
 "nbformat_minor": 5
}
